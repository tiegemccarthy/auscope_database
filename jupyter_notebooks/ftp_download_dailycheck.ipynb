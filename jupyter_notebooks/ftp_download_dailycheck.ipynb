{
 "cells": [
  {
   "cell_type": "code",
   "execution_count": 1,
   "metadata": {},
   "outputs": [],
   "source": [
    "from ftplib import FTP\n",
    "import re\n",
    "import os\n",
    "import MySQLdb as mariadb\n",
    "import sys\n"
   ]
  },
  {
   "cell_type": "code",
   "execution_count": 2,
   "metadata": {},
   "outputs": [],
   "source": [
    "def checkExistingData(db_name):\n",
    "    # db_name should be the name of the auscope database (as a string) we want to query for \n",
    "    #  unique existing experiment IDs\n",
    "    conn = mariadb.connect(user='auscope', passwd='password', db=db_name)\n",
    "    cursor = conn.cursor()\n",
    "    station_key = ['Ke', 'Yg', 'Hb', 'Ho']\n",
    "    existing_experiments = []\n",
    "\n",
    "    for ant in station_key:\n",
    "        query = \"SELECT ExpID FROM \" + ant\n",
    "        cursor.execute(query)\n",
    "        result_list = [item for sublist in cursor.fetchall() for item in sublist]\n",
    "        existing_experiments.append(result_list)\n",
    "    \n",
    "    existing_experiments = [item for sublist in existing_experiments for item in sublist]\n",
    "    unique_existing_experiments = set(existing_experiments)\n",
    "    return unique_existing_experiments"
   ]
  },
  {
   "cell_type": "markdown",
   "metadata": {},
   "source": [
    "trying to figure out how to make this only try download experiments that have valid data ready. In this case the column PF in the master schedule only shows the value '1.0' when analysis is complete."
   ]
  },
  {
   "cell_type": "code",
   "execution_count": 9,
   "metadata": {},
   "outputs": [],
   "source": [
    "with open('master20.txt') as file:\n",
    "    contents = file.readlines()\n",
    "\n",
    "valid_experiment = []\n",
    "for line in contents:\n",
    "    line = line.split('|')\n",
    "    if len(line) > 13 and '1.0' in line[11]:\n",
    "        regex = '(?<!-)Ke|(?<!-)Yg|(?<!-)Hb|(?<!-)Ho'\n",
    "        participated = re.findall(regex,line[7],re.MULTILINE)\n",
    "        if len(participated) > 0:\n",
    "            valid_experiment.append(line[2].strip())\n",
    "            \n",
    "existing_experiments = checkExistingData('auscope_test')\n",
    "experiments_to_download = [x for x in valid_experiment if x not in existing_experiments]\n",
    "\n",
    "# This ultimately produces a list of experiments from the given years master schedule that \n",
    "#  do not exist yet in the database.\n"
   ]
  },
  {
   "cell_type": "code",
   "execution_count": 10,
   "metadata": {},
   "outputs": [
    {
     "data": {
      "text/plain": [
       "['R4927',\n",
       " 'R1928',\n",
       " 'R4928',\n",
       " 'R1929',\n",
       " 'R4929',\n",
       " 'R1930',\n",
       " 'R4930',\n",
       " 'R1931',\n",
       " 'R4931',\n",
       " 'R1932',\n",
       " 'R4932',\n",
       " 'R1933',\n",
       " 'R4933',\n",
       " 'R4934',\n",
       " 'R1935',\n",
       " 'R4935',\n",
       " 'R1936',\n",
       " 'R4936',\n",
       " 'R1937']"
      ]
     },
     "execution_count": 10,
     "metadata": {},
     "output_type": "execute_result"
    }
   ],
   "source": [
    "experiments_to_download"
   ]
  },
  {
   "cell_type": "code",
   "execution_count": null,
   "metadata": {},
   "outputs": [],
   "source": []
  }
 ],
 "metadata": {
  "kernelspec": {
   "display_name": "Python 3",
   "language": "python",
   "name": "python3"
  },
  "language_info": {
   "codemirror_mode": {
    "name": "ipython",
    "version": 3
   },
   "file_extension": ".py",
   "mimetype": "text/x-python",
   "name": "python",
   "nbconvert_exporter": "python",
   "pygments_lexer": "ipython3",
   "version": "3.8.2"
  }
 },
 "nbformat": 4,
 "nbformat_minor": 2
}
