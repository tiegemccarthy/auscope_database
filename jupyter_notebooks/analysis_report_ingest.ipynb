{
 "cells": [
  {
   "cell_type": "code",
   "execution_count": 1,
   "metadata": {},
   "outputs": [],
   "source": [
    "import re\n",
    "from datetime import datetime\n",
    "from astropy.time import Time\n",
    "import csv\n"
   ]
  },
  {
   "cell_type": "code",
   "execution_count": 2,
   "metadata": {},
   "outputs": [
    {
     "name": "stdout",
     "output_type": "stream",
     "text": [
      "       IVS Analysis Report for R1875 ($19JAN02XA) \n",
      "       This report is the official IVS analysis report that corresponds to \n",
      "       the database maintained by the IVS Data Centers for this session.  \n",
      "   (Analyzed by David Gordon, Goddard Space Flight Center.\n",
      "    Spoolfile source: interactive solve/nuSolve analysis.) \n",
      "\n",
      "Problems: KATH12M had DBBC problems. The ambiguity resolution was extremely\n",
      "           difficult, almost but not quite impossible.\n",
      "          YARRA12M has small clock breaks at ~02:00 and ~11:31 UTC.\n",
      "          MATERA did not participate, brake problems. \n",
      "          NYALES20 missed ~7 hours due to strong winds. \n",
      "\n",
      "Parameterization comments: None. \n",
      "\n",
      "Other comments: None. \n",
      "\n",
      "-----------------------------------------\n",
      "\n",
      "Session Statistics \n",
      "\n",
      "  Observations:     7426 scheduled \n",
      "                    4908 correlated (in database)\n",
      "                    4713 recoverable (usable)\n",
      "                    4653 used\n",
      "  Session fit:        32.364 ps\n",
      "\n",
      "-----------------------------------------\n",
      "\n",
      "Station Performance \n",
      "\n",
      "                           Number of Observations\n",
      "\n",
      "                    Scheduled   Recoverable*        Used   % of scheduled\n",
      "                                                              obs used\n",
      "\n",
      "  HART15M                1104           757          734        66.5%\n",
      "  ISHIOKA                1718          1386         1370        79.7%\n",
      "  KATH12M                 987           653          637        64.5%\n",
      "  KOKEE                  1337          1066         1060        79.3%\n",
      "  MATERA                 1832        MISSED       MISSED         0.0%\n",
      "  NYALES20               1871          1073         1064        56.9%\n",
      "  ONSALA60               1832          1288         1276        69.7%\n",
      "  SEJONG                 1338          1093         1082        80.9%\n",
      "  WETTZ13N               1892          1336         1322        69.9%\n",
      "  YARRA12M                941           774          761        80.9%\n",
      "  ---------------   ---------   -----------    ---------       ------\n",
      "  Station Total**        7426          4713         4653        62.7%\n",
      "\n",
      "  * Recoverable: can be included in the solution. \n",
      "  ** Total includes distinct observations only.\n",
      "\n",
      "  MISSED:    Station was scheduled, but it did not observe.\n",
      "  NOT CORR:  Station was scheduled but not correlated.\n",
      "  NOT USED:  Usable data was generated for this station,\n",
      "             but the analyst rejected it all.\n",
      "\n",
      "-----------------------------------------\n",
      "\n",
      "Source Performance \n",
      "\n",
      "                    Number of Observations\n",
      "\n",
      "                Scheduled  Correlated*    Used      % of scheduled\n",
      "                                                       obs used\n",
      "\n",
      "  2302+232              4           4        2           50.0%\n",
      "  2232-488              6           5        5           83.3%\n",
      "  NGC1052               6           4        1           16.7%\n",
      "  1842+681             87          47       47           54.0%\n",
      "  0507+179             57          36       36           63.2%\n",
      "  0919-260             28          17       10           35.7%\n",
      "  OK290                88          50       50           56.8%\n",
      "  1145-071             41          26       25           61.0%\n",
      "  1252+119             26          22       19           73.1%\n",
      "  0059+581            700         440      438           62.6%\n",
      "  0104-408             50          41       37           74.0%\n",
      "  0119+041             36          18       18           50.0%\n",
      "  0229+131            117          69       59           50.4%\n",
      "  0530-727             13          13       13          100.0%\n",
      "  0727-115            280         232      220           78.6%\n",
      "  0823+033             88          50       49           55.7%\n",
      "  OJ287               380         268      265           69.7%\n",
      "  0955+476            438         294      286           65.3%\n",
      "  1034-293             32          25       18           56.2%\n",
      "  1057-797             94          81       78           83.0%\n",
      "  1124-186             38          29       29           76.3%\n",
      "  1128+385            268         175      172           64.2%\n",
      "  1144-379            116          96       71           61.2%\n",
      "  1300+580             40          16       16           40.0%\n",
      "  1334-127            150         106      103           68.7%\n",
      "  1424-418             73          62       59           80.8%\n",
      "  1519-273             10           3        3           30.0%\n",
      "  1741-038            195         135      133           68.2%\n",
      "  1921-293             32          25       23           71.9%\n",
      "  1954-388             13           7        7           53.8%\n",
      "  2052-474             27          17       16           59.3%\n",
      "  3C446               239         179      163           68.2%\n",
      "  2255-282             42          30       25           59.5%\n",
      "  2318+049            137          91       84           61.3%\n",
      "  0346-279              6           6        3           50.0%\n",
      "  0420-014             80          53       52           65.0%\n",
      "  1324+224             11           6        6           54.5%\n",
      "  1636+473             92          50       47           51.1%\n",
      "  1846+322              3           3        3          100.0%\n",
      "  1909+161             11          11        2           18.2%\n",
      "  2000+472            201         119       93           46.3%\n",
      "  2229+695            324         176      175           54.0%\n",
      "  2355-106            134         102       98           73.1%\n",
      "  0025+197             10          10       10          100.0%\n",
      "  0529+483            385         260      260           67.5%\n",
      "  0716+714            701         447      423           60.3%\n",
      "  0748+126            360         252      234           65.0%\n",
      "  1053+704             37          23       23           62.2%\n",
      "  1617+229             89          47       40           44.9%\n",
      "  2059+034              8           8        8          100.0%\n",
      "  2144+092             76          46       46           60.5%\n",
      "  2309+454             81          56       56           69.1%\n",
      "  0322+222             16          14       12           75.0%\n",
      "  0537-286             18           8        7           38.9%\n",
      "  1759-396             17          13       12           70.6%\n",
      "  2008-159             45          24       24           53.3%\n",
      "  0308-611             28          21       19           67.9%\n",
      "  1502+036             10           9        9           90.0%\n",
      "  1657-261             13           8        4           30.8%\n",
      "  1806+456            235         121      115           48.9%\n",
      "  0131-522             17          16       14           82.4%\n",
      "  0202+319            210         137      137           65.2%\n",
      "  NRAO150              31          19       19           61.3%\n",
      "  1243-072              5           3        3           60.0%\n",
      "  1504+377              7           7        2           28.6%\n",
      "  1751+288            193         106      105           54.4%\n",
      "  2126-158             21          14       12           57.1%\n",
      "  ------------  ---------  ----------   ------          ------\n",
      "  Source Total       7426        4908     4653           62.7%\n",
      "\n",
      " * Correlated: included in database \n",
      "\n",
      "-----------------------------------------\n",
      "\n",
      "Baseline Performance \n",
      "\n",
      "                                 Number of Observations\n",
      "\n",
      "                         Scheduled   Recoverable*         Used   % of scheduled\n",
      "                                                                    obs used\n",
      "\n",
      "  HART15M-ISHIOKA               71            48            45        63.4%\n",
      "  HART15M-KATH12M               96            57            54        56.2%\n",
      "  HART15M-KOKEE                  0      NOT CORR      NOT CORR         0.0%\n",
      "  HART15M-MATERA               206        MISSED        MISSED         0.0%\n",
      "  HART15M-NYALES20             128            88            85        66.4%\n",
      "  HART15M-ONSALA60             167           161           159        95.2%\n",
      "  HART15M-SEJONG                68            59            56        82.4%\n",
      "  HART15M-WETTZ13N             200           183           179        89.5%\n",
      "  HART15M-YARRA12M             168           161           156        92.9%\n",
      "  ISHIOKA-KATH12M              146           104           102        69.9%\n",
      "  ISHIOKA-KOKEE                312           305           302        96.8%\n",
      "  ISHIOKA-MATERA               178        MISSED        MISSED         0.0%\n",
      "  ISHIOKA-NYALES20             248           177           175        70.6%\n",
      "  ISHIOKA-ONSALA60             187           182           181        96.8%\n",
      "  ISHIOKA-SEJONG               276           274           272        98.6%\n",
      "  ISHIOKA-WETTZ13N             191           187           185        96.9%\n",
      "  ISHIOKA-YARRA12M             109           109           108        99.1%\n",
      "  KATH12M-KOKEE                113            78            77        68.1%\n",
      "  KATH12M-MATERA                33        MISSED        MISSED         0.0%\n",
      "  KATH12M-NYALES20              42            31            31        73.8%\n",
      "  KATH12M-ONSALA60              30            24            23        76.7%\n",
      "  KATH12M-SEJONG               162           107           103        63.6%\n",
      "  KATH12M-WETTZ13N              34            26            26        76.5%\n",
      "  KATH12M-YARRA12M             331           226           221        66.8%\n",
      "  KOKEE-MATERA                 137        MISSED        MISSED         0.0%\n",
      "  KOKEE-NYALES20               210           136           136        64.8%\n",
      "  KOKEE-ONSALA60               148           142           142        95.9%\n",
      "  KOKEE-SEJONG                 182           180           179        98.4%\n",
      "  KOKEE-WETTZ13N               162           159           159        98.1%\n",
      "  KOKEE-YARRA12M                73            66            65        89.0%\n",
      "  MATERA-NYALES20              332        MISSED        MISSED         0.0%\n",
      "  MATERA-ONSALA60              389        MISSED        MISSED         0.0%\n",
      "  MATERA-SEJONG                116        MISSED        MISSED         0.0%\n",
      "  MATERA-WETTZ13N              403        MISSED        MISSED         0.0%\n",
      "  MATERA-YARRA12M               38        MISSED        MISSED         0.0%\n",
      "  NYALES20-ONSALA60            365           251           250        68.5%\n",
      "  NYALES20-SEJONG              155           121           120        77.4%\n",
      "  NYALES20-WETTZ13N            361           243           242        67.0%\n",
      "  NYALES20-YARRA12M             30            26            25        83.3%\n",
      "  ONSALA60-SEJONG              125           107           107        85.6%\n",
      "  ONSALA60-WETTZ13N            390           390           383        98.2%\n",
      "  ONSALA60-YARRA12M             31            31            31       100.0%\n",
      "  SEJONG-WETTZ13N              122           119           119        97.5%\n",
      "  SEJONG-YARRA12M              132           126           126        95.5%\n",
      "  WETTZ13N-YARRA12M             29            29            29       100.0%\n",
      "  -----------------      ---------   -----------    ----------       ------\n",
      "  Baseline Total              7426          4713          4653        62.7%\n",
      "\n",
      "  * Recoverable: can be included in the solution. \n",
      "\n",
      "  MISSED:     Baseline was scheduled, but at least one of the sites\n",
      "              did not observe.\n",
      "  NOT CORR:   Baseline was scheduled but not correlated.\n",
      "  NO DATA:    The baseline's stations were both correlated,\n",
      "              but they did not observe together.\n",
      "  DESELECTED: Usable data was generated for the baseline,\n",
      "              but the analyst rejected it.\n",
      "\n"
     ]
    }
   ],
   "source": [
    "with open('r1875-ivs-analysis-report.txt') as file:\n",
    "    file_contents = file.read()\n",
    "    print(file_contents)"
   ]
  },
  {
   "cell_type": "code",
   "execution_count": 2,
   "metadata": {},
   "outputs": [],
   "source": [
    "with open('NEXT_VERSION_TESTING/analysis_reports/r1821_report.txt') as file:\n",
    "    contents = file.read()\n",
    "    sections = contents.split('-----------------------------------------')"
   ]
  },
  {
   "cell_type": "code",
   "execution_count": 3,
   "metadata": {},
   "outputs": [],
   "source": [
    "def problemFinder(text_section):\n",
    "    stations = ['KATH12M', 'YARRA12M', 'HOBART12', 'HOBART26']\n",
    "    problem_bool = []\n",
    "    problem_string = []\n",
    "    for ant in stations:\n",
    "        regex = ant + '.*\\n[\\s]{11}.*|' + ant + '.*$'\n",
    "        problem = re.findall(regex,text_section,re.MULTILINE)\n",
    "        if len(problem) > 0:\n",
    "            problem_bool.append(True)\n",
    "            problem_string.append(problem[0].replace('\\n', \"\"))\n",
    "        else:\n",
    "            problem_bool.append(False)\n",
    "            problem_string.append('')\n",
    "    return problem_bool, problem_string\n"
   ]
  },
  {
   "cell_type": "code",
   "execution_count": 4,
   "metadata": {},
   "outputs": [
    {
     "data": {
      "text/plain": [
       "([False, True, False, False],\n",
       " ['', 'YARRA12M: two small clock breaks, at ~1:56 and ~2:00.', '', ''])"
      ]
     },
     "execution_count": 4,
     "metadata": {},
     "output_type": "execute_result"
    }
   ],
   "source": [
    "problemFinder(sections[0])"
   ]
  },
  {
   "cell_type": "code",
   "execution_count": 5,
   "metadata": {},
   "outputs": [],
   "source": [
    "def percent2decimal(percent_string):\n",
    "    return float(percent_string.strip('%'))/100\n",
    "\n",
    "\n",
    "def stationPerformance(text_section):\n",
    "    stations = ['KATH12M', 'YARRA12M', 'HOBART12', 'HOBART26']\n",
    "    station_performance = []\n",
    "    for ant in stations:\n",
    "        regex = ant + \".*\"\n",
    "        performance = re.findall(regex,text_section,re.MULTILINE)\n",
    "        if len(performance) > 0:\n",
    "            percentage = [s for s in performance[0].split() if \"%\" in s]\n",
    "            performance = percent2decimal(percentage[0])\n",
    "            station_performance.append(performance)\n",
    "        else:\n",
    "            station_performance.append(None)\n",
    "    \n",
    "    return station_performance"
   ]
  },
  {
   "cell_type": "code",
   "execution_count": 6,
   "metadata": {
    "scrolled": true
   },
   "outputs": [
    {
     "data": {
      "text/plain": [
       "[0.603, 0.633, None, None]"
      ]
     },
     "execution_count": 6,
     "metadata": {},
     "output_type": "execute_result"
    }
   ],
   "source": [
    "stationPerformance(sections[2])"
   ]
  },
  {
   "cell_type": "code",
   "execution_count": 7,
   "metadata": {},
   "outputs": [],
   "source": [
    "def metaData(text_section):\n",
    "    vgosDBtag = re.findall(\"(?<=\\$).{9}\",text_section,re.MULTILINE)\n",
    "    date = re.findall(\"(?<=\\$).{7}\",text_section,re.MULTILINE)\n",
    "    date = datetime.strptime(date[0], '%y%b%d').strftime('%Y-%m-%d')\n",
    "    date_mjd = Time(date).mjd\n",
    "    exp_code = re.findall(\"(?<=Analysis Report for\\s)(.*?(?=\\s))\",text_section,re.MULTILINE)\n",
    "    analyser = re.findall(\"\\S.*(?=\\sAnalysis Report for\\s)\",text_section,re.MULTILINE)\n",
    "    if len(analyser) == 0:\n",
    "        analyser = \"-\"\n",
    "    return exp_code[0], analyser[0], date, date_mjd, vgosDBtag[0]\n",
    "    # pretty sure this doesn't work post-2099, but like... you shouldn't be using this trash then... right?"
   ]
  },
  {
   "cell_type": "code",
   "execution_count": 8,
   "metadata": {},
   "outputs": [],
   "source": [
    "vgosDBtag = re.findall(\"(?<=\\$).{9}\",sections[0],re.MULTILINE)\n",
    "date = re.findall(\"(?<=\\$).{7}\",sections[0],re.MULTILINE)\n",
    "date = datetime.strptime(date[0], '%y%b%d').strftime('%Y-%m-%d')\n",
    "exp_code = re.findall(\"(?<=Analysis Report for\\s)(.*?(?=\\s))\",sections[0],re.MULTILINE)\n",
    "analyser = re.findall(\"\\S.*(?=\\sAnalysis Report for\\s)\",sections[0],re.MULTILINE)\n"
   ]
  },
  {
   "cell_type": "code",
   "execution_count": 9,
   "metadata": {},
   "outputs": [
    {
     "data": {
      "text/plain": [
       "('R1821', 'IVS', '2017-12-18', 58105.0, '17DEC18XA')"
      ]
     },
     "execution_count": 9,
     "metadata": {},
     "output_type": "execute_result"
    }
   ],
   "source": [
    "metaData(sections[0])"
   ]
  },
  {
   "cell_type": "code",
   "execution_count": 10,
   "metadata": {},
   "outputs": [],
   "source": [
    "with open('NEXT_VERSION_TESTING/analysis_reports/r1821_report.txt') as file:\n",
    "    contents = file.read()\n",
    "    sections = contents.split('-----------------------------------------')\n",
    "    \n",
    "meta = metaData(sections[0])\n",
    "performance = stationPerformance(sections[2])\n",
    "problems = problemFinder(sections[0])\n",
    "\n"
   ]
  },
  {
   "cell_type": "code",
   "execution_count": 11,
   "metadata": {},
   "outputs": [],
   "source": [
    "import MySQLdb as mariadb\n",
    "conn = mariadb.connect(user='auscope', passwd='password', db='auscope_test')\n",
    "cursor = conn.cursor()"
   ]
  },
  {
   "cell_type": "code",
   "execution_count": 12,
   "metadata": {},
   "outputs": [],
   "source": [
    "sql_command = []\n",
    "station_id = ['Ke', 'Yg', 'Hb', 'Ho']\n",
    "for i in range(0, len(performance)):\n",
    "    if performance[i] == None:\n",
    "        break\n",
    "    else:\n",
    "        sql_station = \"INSERT IGNORE INTO \" + station_id[i] + \" (ExpID, Performance, Date, Problem, Problem_String, Analyser) VALUES ('{}', {},'{}', {}, '{}' , '{}');\".format(meta[0], performance[i], meta[2], problems[0][i], problems[1][i], meta[1])\n",
    "        with open(station_id[i] + '_test.csv','a') as file:\n",
    "            station_writer = csv.writer(file, delimiter=',', quotechar='\"', quoting=csv.QUOTE_MINIMAL)\n",
    "            station_writer.writerow([meta[0], performance[i], meta[2], problems[0][i], problems[1][i], meta[1]])\n",
    "        sql_command.append(sql_station)\n",
    "\n",
    "# this snippet of code essentially checks if a performance metric exists (and therefore the station participated in the experiment)\n",
    "# If this is true, it generates an SQL command string for that station. "
   ]
  },
  {
   "cell_type": "code",
   "execution_count": null,
   "metadata": {},
   "outputs": [],
   "source": [
    "with open(station_id[1] + '_test.csv','a') as file:\n",
    "    with open(station_id[1] + '_test.csv','a'))\n",
    "            station_writer = csv.writer(file, delimiter=',', quotechar='\"', quoting=csv.QUOTE_MINIMAL)\n",
    "            station_writer.writerow([meta[0], performance[i], meta[2], problems[0][i], problems[1][i], meta[1]])\n",
    "        sql_command.append(sql_station)"
   ]
  },
  {
   "cell_type": "code",
   "execution_count": 14,
   "metadata": {},
   "outputs": [
    {
     "data": {
      "text/plain": [
       "[\"INSERT IGNORE INTO Ke (ExpID, Performance, Date, Problem, Problem_String, Analyser) VALUES ('R1821', 0.603,'2017-12-18', False, '' , 'IVS');\",\n",
       " \"INSERT IGNORE INTO Yg (ExpID, Performance, Date, Problem, Problem_String, Analyser) VALUES ('R1821', 0.633,'2017-12-18', True, 'YARRA12M: two small clock breaks, at ~1:56 and ~2:00.' , 'IVS');\"]"
      ]
     },
     "execution_count": 14,
     "metadata": {},
     "output_type": "execute_result"
    }
   ],
   "source": [
    "sql_command"
   ]
  },
  {
   "cell_type": "code",
   "execution_count": 15,
   "metadata": {
    "scrolled": true
   },
   "outputs": [],
   "source": [
    "for i in range(0,len(sql_command)):\n",
    "    cursor.execute(sql_command[i])\n",
    "\n",
    "conn.commit()\n",
    "conn.close() "
   ]
  },
  {
   "cell_type": "code",
   "execution_count": null,
   "metadata": {},
   "outputs": [],
   "source": []
  },
  {
   "cell_type": "code",
   "execution_count": 16,
   "metadata": {},
   "outputs": [
    {
     "ename": "OperationalError",
     "evalue": "(1698, \"Access denied for user 'root'@'localhost'\")",
     "output_type": "error",
     "traceback": [
      "\u001b[0;31m---------------------------------------------------------------------------\u001b[0m",
      "\u001b[0;31mOperationalError\u001b[0m                          Traceback (most recent call last)",
      "\u001b[0;32m<ipython-input-16-d8d3f804ec1d>\u001b[0m in \u001b[0;36m<module>\u001b[0;34m\u001b[0m\n\u001b[0;32m----> 1\u001b[0;31m \u001b[0mconn\u001b[0m \u001b[0;34m=\u001b[0m \u001b[0mmariadb\u001b[0m\u001b[0;34m.\u001b[0m\u001b[0mconnect\u001b[0m\u001b[0;34m(\u001b[0m\u001b[0muser\u001b[0m\u001b[0;34m=\u001b[0m\u001b[0;34m'root'\u001b[0m\u001b[0;34m,\u001b[0m \u001b[0mpasswd\u001b[0m\u001b[0;34m=\u001b[0m\u001b[0;34m''\u001b[0m\u001b[0;34m,\u001b[0m \u001b[0mdb\u001b[0m\u001b[0;34m=\u001b[0m\u001b[0;34m'auscope_test'\u001b[0m\u001b[0;34m)\u001b[0m\u001b[0;34m\u001b[0m\u001b[0;34m\u001b[0m\u001b[0m\n\u001b[0m\u001b[1;32m      2\u001b[0m \u001b[0mcursor\u001b[0m \u001b[0;34m=\u001b[0m \u001b[0mconn\u001b[0m\u001b[0;34m.\u001b[0m\u001b[0mcursor\u001b[0m\u001b[0;34m(\u001b[0m\u001b[0;34m)\u001b[0m\u001b[0;34m\u001b[0m\u001b[0;34m\u001b[0m\u001b[0m\n\u001b[1;32m      3\u001b[0m \u001b[0mquery\u001b[0m \u001b[0;34m=\u001b[0m \u001b[0;34m\"SELECT ExpID FROM Ke\"\u001b[0m\u001b[0;34m\u001b[0m\u001b[0;34m\u001b[0m\u001b[0m\n\u001b[1;32m      4\u001b[0m \u001b[0mcursor\u001b[0m\u001b[0;34m.\u001b[0m\u001b[0mexecute\u001b[0m\u001b[0;34m(\u001b[0m\u001b[0mquery\u001b[0m\u001b[0;34m)\u001b[0m\u001b[0;34m\u001b[0m\u001b[0;34m\u001b[0m\u001b[0m\n\u001b[1;32m      5\u001b[0m \u001b[0mresult_list\u001b[0m \u001b[0;34m=\u001b[0m \u001b[0;34m[\u001b[0m\u001b[0mitem\u001b[0m \u001b[0;32mfor\u001b[0m \u001b[0msublist\u001b[0m \u001b[0;32min\u001b[0m \u001b[0mcursor\u001b[0m\u001b[0;34m.\u001b[0m\u001b[0mfetchall\u001b[0m\u001b[0;34m(\u001b[0m\u001b[0;34m)\u001b[0m \u001b[0;32mfor\u001b[0m \u001b[0mitem\u001b[0m \u001b[0;32min\u001b[0m \u001b[0msublist\u001b[0m\u001b[0;34m]\u001b[0m\u001b[0;34m\u001b[0m\u001b[0;34m\u001b[0m\u001b[0m\n",
      "\u001b[0;32m/usr/lib/python3.8/site-packages/MySQLdb/__init__.py\u001b[0m in \u001b[0;36mConnect\u001b[0;34m(*args, **kwargs)\u001b[0m\n\u001b[1;32m     82\u001b[0m     \u001b[0;34m\"\"\"Factory function for connections.Connection.\"\"\"\u001b[0m\u001b[0;34m\u001b[0m\u001b[0;34m\u001b[0m\u001b[0m\n\u001b[1;32m     83\u001b[0m     \u001b[0;32mfrom\u001b[0m \u001b[0mMySQLdb\u001b[0m\u001b[0;34m.\u001b[0m\u001b[0mconnections\u001b[0m \u001b[0;32mimport\u001b[0m \u001b[0mConnection\u001b[0m\u001b[0;34m\u001b[0m\u001b[0;34m\u001b[0m\u001b[0m\n\u001b[0;32m---> 84\u001b[0;31m     \u001b[0;32mreturn\u001b[0m \u001b[0mConnection\u001b[0m\u001b[0;34m(\u001b[0m\u001b[0;34m*\u001b[0m\u001b[0margs\u001b[0m\u001b[0;34m,\u001b[0m \u001b[0;34m**\u001b[0m\u001b[0mkwargs\u001b[0m\u001b[0;34m)\u001b[0m\u001b[0;34m\u001b[0m\u001b[0;34m\u001b[0m\u001b[0m\n\u001b[0m\u001b[1;32m     85\u001b[0m \u001b[0;34m\u001b[0m\u001b[0m\n\u001b[1;32m     86\u001b[0m \u001b[0mconnect\u001b[0m \u001b[0;34m=\u001b[0m \u001b[0mConnection\u001b[0m \u001b[0;34m=\u001b[0m \u001b[0mConnect\u001b[0m\u001b[0;34m\u001b[0m\u001b[0;34m\u001b[0m\u001b[0m\n",
      "\u001b[0;32m/usr/lib/python3.8/site-packages/MySQLdb/connections.py\u001b[0m in \u001b[0;36m__init__\u001b[0;34m(self, *args, **kwargs)\u001b[0m\n\u001b[1;32m    177\u001b[0m         \u001b[0mautocommit\u001b[0m \u001b[0;34m=\u001b[0m \u001b[0mkwargs2\u001b[0m\u001b[0;34m.\u001b[0m\u001b[0mpop\u001b[0m\u001b[0;34m(\u001b[0m\u001b[0;34m'autocommit'\u001b[0m\u001b[0;34m,\u001b[0m \u001b[0;32mFalse\u001b[0m\u001b[0;34m)\u001b[0m\u001b[0;34m\u001b[0m\u001b[0;34m\u001b[0m\u001b[0m\n\u001b[1;32m    178\u001b[0m \u001b[0;34m\u001b[0m\u001b[0m\n\u001b[0;32m--> 179\u001b[0;31m         \u001b[0msuper\u001b[0m\u001b[0;34m(\u001b[0m\u001b[0mConnection\u001b[0m\u001b[0;34m,\u001b[0m \u001b[0mself\u001b[0m\u001b[0;34m)\u001b[0m\u001b[0;34m.\u001b[0m\u001b[0m__init__\u001b[0m\u001b[0;34m(\u001b[0m\u001b[0;34m*\u001b[0m\u001b[0margs\u001b[0m\u001b[0;34m,\u001b[0m \u001b[0;34m**\u001b[0m\u001b[0mkwargs2\u001b[0m\u001b[0;34m)\u001b[0m\u001b[0;34m\u001b[0m\u001b[0;34m\u001b[0m\u001b[0m\n\u001b[0m\u001b[1;32m    180\u001b[0m         \u001b[0mself\u001b[0m\u001b[0;34m.\u001b[0m\u001b[0mcursorclass\u001b[0m \u001b[0;34m=\u001b[0m \u001b[0mcursorclass\u001b[0m\u001b[0;34m\u001b[0m\u001b[0;34m\u001b[0m\u001b[0m\n\u001b[1;32m    181\u001b[0m         self.encoders = dict([ (k, v) for k, v in conv.items()\n",
      "\u001b[0;31mOperationalError\u001b[0m: (1698, \"Access denied for user 'root'@'localhost'\")"
     ]
    }
   ],
   "source": [
    "conn = mariadb.connect(user='root', passwd='', db='auscope_test')\n",
    "cursor = conn.cursor()\n",
    "query = \"SELECT ExpID FROM Ke\"\n",
    "cursor.execute(query)\n",
    "result_list = [item for sublist in cursor.fetchall() for item in sublist]\n",
    "print(result_list)"
   ]
  },
  {
   "cell_type": "code",
   "execution_count": null,
   "metadata": {},
   "outputs": [],
   "source": [
    "station_id = ['Ke', 'Yg', 'Hb', 'Ho']\n",
    "conn = mariadb.connect(user='root', passwd='')\n",
    "cursor = conn.cursor()\n",
    "query = \"CREATE OR REPLACE DATABASE auscope_test;\"\n",
    "cursor.execute(query)\n",
    "conn.commit()\n",
    "query = \"USE auscope_test\"\n",
    "cursor.execute(query)\n",
    "conn.commit()\n",
    "\n",
    "for ant in station_id:\n",
    "    query = \"CREATE TABLE IF NOT EXISTS \"+ ant + \" (ExpID VARCHAR(10) NOT NULL PRIMARY KEY, Performance decimal(4,3) NOT NULL, Date DATETIME, Pos_X decimal(14,2), Pos_Y decimal(14,2), Pos_Z decimal(14,2), Problem BIT(1), Problem_String VARCHAR(100), Analyser VARCHAR(10) NOT NULL);\" \n",
    "    cursor.execute(query)\n",
    "    conn.commit()\n",
    "    \n",
    "conn.close()\n",
    "    "
   ]
  },
  {
   "cell_type": "code",
   "execution_count": null,
   "metadata": {},
   "outputs": [],
   "source": [
    "station_id = ['Ke', 'Yg', 'Hb', 'Ho']\n",
    "conn = mariadb.connect(user='root', passwd='')\n",
    "cursor = conn.cursor()\n",
    "query = \"CREATE DATABASE IF NOT EXISTS auscope_test;\"\n",
    "cursor.execute(query)\n",
    "conn.commit()\n",
    "query = \"USE auscope_test\"\n",
    "cursor.execute(query)\n",
    "conn.commit()\n",
    "for ant in station_id:\n",
    "    query = \"CREATE TABLE IF NOT EXISTS \"+ ant + \" (ExpID VARCHAR(10) NOT NULL PRIMARY KEY, Performance decimal(4,3) NOT NULL, Date DATETIME, Pos_X decimal(14,2), Pos_Y decimal(14,2), Pos_Z decimal(14,2), Problem BIT(1), Problem_String VARCHAR(100), Analyser VARCHAR(10) NOT NULL);\" \n",
    "    cursor.execute(query)\n",
    "    conn.commit()\n",
    "    \n",
    "conn.close()"
   ]
  },
  {
   "cell_type": "code",
   "execution_count": null,
   "metadata": {},
   "outputs": [],
   "source": []
  },
  {
   "cell_type": "code",
   "execution_count": null,
   "metadata": {},
   "outputs": [],
   "source": []
  }
 ],
 "metadata": {
  "kernelspec": {
   "display_name": "Python 3",
   "language": "python",
   "name": "python3"
  },
  "language_info": {
   "codemirror_mode": {
    "name": "ipython",
    "version": 3
   },
   "file_extension": ".py",
   "mimetype": "text/x-python",
   "name": "python",
   "nbconvert_exporter": "python",
   "pygments_lexer": "ipython3",
   "version": "3.8.3"
  }
 },
 "nbformat": 4,
 "nbformat_minor": 2
}
